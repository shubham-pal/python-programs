"""
    Problem :  Sudoku square of order 3 consists of 3^4 ( 81 ) variables formed into a 3^2( 9 ) × 3^2( 9 )
               grid with values from 1 to 3^2( 9 ) such that the entries in each row, each column and in
               each of the 3^2( 9 ) major 3×3 blocks are all different.
"""


def safeMove(row, col, val, board):
    for i in range(0,9):
        if (board[i][col] == val):   #checking in same row
            return False
        if (board[row][i] == val):   #checking in same column
            return False
        if (board[3*(row//3) + i//3][3*(col//3) + i%3] == val): #checking in 3 x 3 grid
            return False
    return True

def sudokuSolver(board):
    for i in range(0,len(board)):
        for j in range(0, len(board[0])):

            if (board[i][j] == 0):              #if this cell is empty

                for val in range(1,10):

                    if (safeMove(i, j, val, board)):
                        board[i][j] = val

                        if (sudokuSolver(board)):
                            return True

                        board[i][j] = 0        #if solution not found, backtrack

                return False

    return True


if __name__ == "__main__":
    board = [[3 ,0, 0, 8, 0, 1, 0, 0, 2],
            [2, 0, 1, 0, 3, 0, 6, 0, 4],
            [0, 0, 0, 2, 0, 4, 0, 0, 0],
            [8, 0, 9, 0, 0, 0, 1, 0, 6],
            [0, 6, 0, 0, 0, 0, 0, 5, 0],
            [7, 0, 2, 0, 0, 0, 4, 0, 9],
            [0, 0, 0, 5, 0, 9, 0, 0, 0],
            [9, 0, 4, 0, 8, 0, 7, 0, 5],
            [6, 0, 0, 1, 0, 7, 0, 0, 3]]

    def printBoard():
        for i in range(0,9):
            for j in range(0,9):
                print(board[i][j],end = " ")
            print()

    sudokuSolver(board)
    print('Sudoku Board : \n')
    printBoard()
